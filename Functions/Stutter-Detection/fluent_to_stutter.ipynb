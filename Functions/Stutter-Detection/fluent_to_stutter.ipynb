{
 "cells": [
  {
   "cell_type": "code",
   "execution_count": 1,
   "id": "67a88064",
   "metadata": {},
   "outputs": [
    {
     "name": "stderr",
     "output_type": "stream",
     "text": [
      "[nltk_data] Downloading package punkt to /Users/sonu/nltk_data...\n",
      "[nltk_data]   Package punkt is already up-to-date!\n"
     ]
    },
    {
     "data": {
      "text/plain": [
       "True"
      ]
     },
     "execution_count": 1,
     "metadata": {},
     "output_type": "execute_result"
    }
   ],
   "source": [
    "import nltk\n",
    "nltk.download('punkt')"
   ]
  },
  {
   "cell_type": "code",
   "execution_count": 2,
   "id": "05cde939",
   "metadata": {},
   "outputs": [
    {
     "name": "stderr",
     "output_type": "stream",
     "text": [
      "/opt/homebrew/lib/python3.13/site-packages/pydub/utils.py:170: RuntimeWarning: Couldn't find ffmpeg or avconv - defaulting to ffmpeg, but may not work\n",
      "  warn(\"Couldn't find ffmpeg or avconv - defaulting to ffmpeg, but may not work\", RuntimeWarning)\n"
     ]
    }
   ],
   "source": [
    "import os\n",
    "import random\n",
    "from pydub import AudioSegment, silence\n",
    "import nltk"
   ]
  },
  {
   "cell_type": "code",
   "execution_count": 3,
   "id": "fcb3400d",
   "metadata": {},
   "outputs": [],
   "source": [
    "# ---------------------------\n",
    "# SETTINGS\n",
    "# ---------------------------\n",
    "INPUT_FOLDER = \"./data/fluent\"\n",
    "OUTPUT_FOLDER = \"./data/stuttered\""
   ]
  },
  {
   "cell_type": "code",
   "execution_count": null,
   "id": "34e35195",
   "metadata": {},
   "outputs": [],
   "source": [
    "# How likely to repeat a word or syllable (0.0 to 1.0)\n",
    "REPEAT_PROB = 0.9\n",
    "\n",
    "# How likely to insert random pause (0.0 to 1.0)\n",
    "PAUSE_PROB = 0.2\n",
    "\n",
    "# Pause duration in ms\n",
    "PAUSE_MS = 300"
   ]
  },
  {
   "cell_type": "code",
   "execution_count": 5,
   "id": "545475f1",
   "metadata": {},
   "outputs": [],
   "source": [
    "\n",
    "os.makedirs(OUTPUT_FOLDER, exist_ok=True)"
   ]
  },
  {
   "cell_type": "code",
   "execution_count": 6,
   "id": "30dbe7ec",
   "metadata": {},
   "outputs": [],
   "source": [
    "from pydub.silence import split_on_silence\n",
    "\n",
    "# ---------------------------\n",
    "# UTILS\n",
    "# ---------------------------\n",
    "def process_file(input_path, output_path):\n",
    "    audio = AudioSegment.from_wav(input_path)\n",
    "    chunks = split_on_silence(audio, silence_thresh=-40, min_silence_len=200, keep_silence=100)\n",
    "\n",
    "    result = AudioSegment.silent(duration=0)\n",
    "\n",
    "    for chunk in chunks:\n",
    "        if random.random() < REPEAT_PROB:\n",
    "            repeats = random.randint(1, 2)\n",
    "            for _ in range(repeats):\n",
    "                result += chunk\n",
    "                result += AudioSegment.silent(duration=50)\n",
    "        else:\n",
    "            result += chunk\n",
    "\n",
    "        if random.random() < PAUSE_PROB:\n",
    "            result += AudioSegment.silent(duration=PAUSE_MS)\n",
    "\n",
    "    # Ensure output folder exists\n",
    "    os.makedirs(os.path.dirname(output_path), exist_ok=True)\n",
    "    result.export(output_path, format=\"wav\")"
   ]
  },
  {
   "cell_type": "code",
   "execution_count": 7,
   "id": "8d1829e7",
   "metadata": {},
   "outputs": [
    {
     "name": "stdout",
     "output_type": "stream",
     "text": [
      "✅ All done!\n"
     ]
    }
   ],
   "source": [
    "# ---------------------------\n",
    "# MAIN\n",
    "# ---------------------------\n",
    "for root, _, files in os.walk(INPUT_FOLDER):\n",
    "    for fname in files:\n",
    "        if fname.endswith(\".wav\"):\n",
    "            rel_path = os.path.relpath(root, INPUT_FOLDER)\n",
    "            output_dir = os.path.join(OUTPUT_FOLDER, rel_path)\n",
    "            input_file = os.path.join(root, fname)\n",
    "            output_file = os.path.join(output_dir, f\"stuttered_{fname}\")\n",
    "\n",
    "            print(f\"Processing: {input_file} -> {output_file}\")\n",
    "            process_file(input_file, output_file)\n",
    "\n",
    "print(\"✅ All done!\")"
   ]
  },
  {
   "cell_type": "code",
   "execution_count": null,
   "id": "361383c2",
   "metadata": {},
   "outputs": [],
   "source": []
  }
 ],
 "metadata": {
  "kernelspec": {
   "display_name": "Python 3",
   "language": "python",
   "name": "python3"
  },
  "language_info": {
   "codemirror_mode": {
    "name": "ipython",
    "version": 3
   },
   "file_extension": ".py",
   "mimetype": "text/x-python",
   "name": "python",
   "nbconvert_exporter": "python",
   "pygments_lexer": "ipython3",
   "version": "3.13.5"
  }
 },
 "nbformat": 4,
 "nbformat_minor": 5
}
